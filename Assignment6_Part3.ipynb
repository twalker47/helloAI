{
  "nbformat": 4,
  "nbformat_minor": 0,
  "metadata": {
    "colab": {
      "provenance": [],
      "authorship_tag": "ABX9TyNeklP/h5gFyUm/G0NedQtZ",
      "include_colab_link": true
    },
    "kernelspec": {
      "name": "python3",
      "display_name": "Python 3"
    },
    "language_info": {
      "name": "python"
    }
  },
  "cells": [
    {
      "cell_type": "markdown",
      "metadata": {
        "id": "view-in-github",
        "colab_type": "text"
      },
      "source": [
        "<a href=\"https://colab.research.google.com/github/twalker47/helloAI/blob/main/Assignment6_Part3.ipynb\" target=\"_parent\"><img src=\"https://colab.research.google.com/assets/colab-badge.svg\" alt=\"Open In Colab\"/></a>"
      ]
    },
    {
      "cell_type": "code",
      "execution_count": 1,
      "metadata": {
        "id": "fHcXgUpfqQRw"
      },
      "outputs": [],
      "source": [
        "import numpy as np\n",
        "import pandas as pd\n",
        "pd.set_option('display.max_columns', None)\n",
        "from sklearn.ensemble import RandomForestClassifier\n",
        "from sklearn.model_selection import train_test_split\n",
        "from sklearn.metrics import accuracy_score"
      ]
    },
    {
      "cell_type": "code",
      "source": [
        "mushrooms_df = pd.read_csv('/kaggle/input/mushroom-attributes/mushroom.csv')"
      ],
      "metadata": {
        "id": "lFZUf5WaqXB0"
      },
      "execution_count": null,
      "outputs": []
    },
    {
      "cell_type": "code",
      "source": [
        "mushrooms_df.head()"
      ],
      "metadata": {
        "id": "27ffqPpdqc8t"
      },
      "execution_count": null,
      "outputs": []
    },
    {
      "cell_type": "code",
      "source": [
        "mushrooms_df.describe()"
      ],
      "metadata": {
        "id": "9nB3KG6GqdVc"
      },
      "execution_count": null,
      "outputs": []
    },
    {
      "cell_type": "code",
      "source": [
        "for column in mushrooms_df:\n",
        "    uniq = mushrooms_df[column].unique()\n",
        "    new = []\n",
        "    for el in mushrooms_df[column]:\n",
        "        new.append(np.where(uniq==el)[0][0])\n",
        "    \n",
        "    mushrooms_df[column] = new\n",
        "\n",
        "mushrooms_df.head()"
      ],
      "metadata": {
        "id": "E1fWPJROqeXm"
      },
      "execution_count": null,
      "outputs": []
    },
    {
      "cell_type": "code",
      "source": [
        "y = mushrooms_df['class']\n",
        "X = mushrooms_df.drop(['class'], axis=1)"
      ],
      "metadata": {
        "id": "NXYXimpbqfwY"
      },
      "execution_count": null,
      "outputs": []
    },
    {
      "cell_type": "code",
      "source": [
        "X_train, X_val, y_train, y_val = train_test_split(X, y, test_size=0.15, random_state=10)"
      ],
      "metadata": {
        "id": "dj9-VZWSqhHX"
      },
      "execution_count": null,
      "outputs": []
    },
    {
      "cell_type": "code",
      "source": [
        "model = RandomForestClassifier()\n",
        "model.fit(X_train, y_train)"
      ],
      "metadata": {
        "id": "BeJLb1y-qiTZ"
      },
      "execution_count": null,
      "outputs": []
    },
    {
      "cell_type": "code",
      "source": [
        "print(f'accuracy: {accuracy_score(model.predict(X_val), y_val)}')"
      ],
      "metadata": {
        "id": "MiVY2JeLqjhy"
      },
      "execution_count": null,
      "outputs": []
    }
  ]
}